{
 "cells": [
  {
   "cell_type": "markdown",
   "id": "67a059c1-81e9-4d85-bf74-667be0665607",
   "metadata": {},
   "source": [
    "# Computational Activity \\#2\n",
    "## PHYS 210, Fall 2024"
   ]
  },
  {
   "cell_type": "markdown",
   "id": "4c29c04c-1977-4b25-916b-603cca54f953",
   "metadata": {},
   "source": [
    "## Introduction and goals for today\n",
    "\n",
    "In the last computational exercise, you began working with scientific Python and Jupyter Notebooks. You learned how Python can be used as a fancy calculator, and you got a taste of how Python libraries can do things (like calculate special functions) that most calculators cannot.\n",
    "\n",
    "Today, we'll build on what you did last time. In this exercise, you will\n",
    "\n",
    "* Work with other useful features of Jupyter notebooks, including Markdown cells.\n",
    "* Learn about NumPy arrays and how they can be useful.\n",
    "* Learn to write *functions* and how they can simplify complex tasks.\n",
    "* Get a taste of Python's plotting capabilities (specifically, the package *matplotlib*), which we will explore in more depth in the next computational activity.\n",
    "\n",
    "For today's exercises, you can either create a new Jupyter notebook, or you can save this notebook under a new name, create new cells, and work directly in it.\n",
    "\n",
    "\n"
   ]
  },
  {
   "cell_type": "markdown",
   "id": "794b0da5-c2dc-4bf8-943f-9e349ce6a1be",
   "metadata": {},
   "source": [
    "## Markdown cells\n",
    "\n",
    "You are familiar with code cells from the last activity. Jupyter notebooks also support Markdown cells, which allow you to insert commentary using a very simple markup language called Markdown. To make a cell a Markdown cell instead of a code cell, click the button labeled \"Code\" in the toolbar.\n",
    "\n",
    "This commentary is actually written using Markdown cells. Running a Markdown cell with `Ctrl - Enter` gets the cell to display in a pretty way, but clicking in the cell lets you see the Markdown syntax itself. Take a look at how you can do headers and bulleted lists in Markdown.\n",
    "\n",
    "There is another useful feature of Markdown: you can insert mathematical syntax using LaTeX. (If you don't know LaTeX, that's OK -- its simplest and most useful features are natural.) It can be a handy way to insert things like Greek letters in-line: $\\alpha, \\beta, \\gamma, \\Gamma, \\delta, \\Delta.$ You can also insert more involved mathematical expressions on their own lines:\n",
    "\n",
    "$$ \\vec{F}_e = \\frac{1}{4\\pi \\epsilon_0} \\frac{q_1q_2}{r^2} \\hat{r}.$$\n",
    "\n",
    "[Here is a short guide to the features of Markdown.](https://www.markdownguide.org/cheat-sheet/) We encourage you to use Markdown cells for explanations of what you're doing and/or your reasoning about data, physics, or math, particularly when your remarks are longer than brief in-line code comments."
   ]
  },
  {
   "cell_type": "markdown",
   "id": "51b15ca1-4b2e-4e01-af09-c5d9da9bb805",
   "metadata": {},
   "source": [
    "### ***EXERCISE 1:***\n",
    "\n",
    "Create a blank Markdown cell below this one (or in a new notebook) and try some Markdown features for yourself."
   ]
  },
  {
   "cell_type": "markdown",
   "id": "0a4eb5e1-ae17-4ca6-8bfc-76299db51438",
   "metadata": {},
   "source": [
    "## NumPy arrays\n",
    "\n",
    "Let's get started with actual code now. We'll begin by importing numpy as you did in the last activity:"
   ]
  },
  {
   "cell_type": "code",
   "execution_count": 1,
   "id": "f446e36a-60d3-4a7e-a8c5-ef1006a53636",
   "metadata": {},
   "outputs": [],
   "source": [
    "import numpy as np"
   ]
  },
  {
   "cell_type": "markdown",
   "id": "e33bdc1a-b617-4be7-ad02-632d475e3b9b",
   "metadata": {},
   "source": [
    "Data structures that consist of an ordered arrangement of numerical values can be useful in many contexts. Here are just a few examples:\n",
    "\n",
    "* You're trying to determine the spring constant of a spring by measuring the force the spring exerts as you stretch the spring different distances. (You'd like to keep your measured set of forces together, and the order of the measurements matters.)\n",
    "* You're calculating the trajectory of a particle acted upon by some complicated force and want to know the particle positions at regular time intervals.\n",
    "\n",
    "Python has a built-in `list` object, but the numpy `array` object has a number of features that make it preferable for most computational work. We'll soon see what some of those features are.\n",
    "\n",
    "Let's begin by creating an array. In the next code cell, I *assign* the variable `foo` to a *1-dimensional* array that I create \"by hand.\" (You should use meaningful names for variables, but I'm just using a silly placeholder here in the absence of a realistic context.)"
   ]
  },
  {
   "cell_type": "code",
   "execution_count": 2,
   "id": "5b87932a-76cd-435d-b550-467ea8279e26",
   "metadata": {},
   "outputs": [],
   "source": [
    "foo = np.array([1, 1, 2, 3, 5, 8, 13])"
   ]
  },
  {
   "cell_type": "markdown",
   "id": "75edb6d0-c8ef-498f-a0db-fac30ed491f6",
   "metadata": {},
   "source": [
    "Assignment means that I can subsequently use the variable name `foo` to refer to or act on the entire array object I just created. For instance,"
   ]
  },
  {
   "cell_type": "code",
   "execution_count": 3,
   "id": "19cd2d89-5c24-49ef-96e5-4fcc7838bd24",
   "metadata": {},
   "outputs": [
    {
     "name": "stdout",
     "output_type": "stream",
     "text": [
      "[ 1  1  2  3  5  8 13]\n"
     ]
    }
   ],
   "source": [
    "print(foo)"
   ]
  },
  {
   "cell_type": "markdown",
   "id": "a86d9ea3-7563-4d04-8ef1-7f353bbffc49",
   "metadata": {},
   "source": [
    "prints the array. The most important feature of arrays is the ability to perform mathematical operations on the **entire array at once**. Doing so makes for code that is easier to read and usually more efficient. For example, try some of the following for yourself:"
   ]
  },
  {
   "cell_type": "code",
   "execution_count": 4,
   "id": "089552fd-d84c-4a51-aa7c-d52bd09d13f9",
   "metadata": {},
   "outputs": [
    {
     "name": "stdout",
     "output_type": "stream",
     "text": [
      "[ 4  4  5  6  8 11 16]\n",
      "[ 2  2  4  6 10 16 26]\n"
     ]
    }
   ],
   "source": [
    "print(foo + 3)\n",
    "print(2 * foo)"
   ]
  },
  {
   "cell_type": "markdown",
   "id": "85fabfcb-543a-4f68-aa47-04eeb259155a",
   "metadata": {},
   "source": [
    "(If you're familiar with Python `list` objects, you probably know that doing the same thing on a list requires explicit iteration over the list elements with a `for` or `while` loop. Don't worry if you haven't worked with `list` objects before and the previous sentence was incomprehensible.)\n",
    "\n",
    "I can create other arrays in a similar fashion and perform operations with multiple arrays:"
   ]
  },
  {
   "cell_type": "code",
   "execution_count": 5,
   "id": "b008bc8d-4731-49f4-9ef8-d42a6d90f9d1",
   "metadata": {},
   "outputs": [
    {
     "data": {
      "text/plain": [
       "array([ 2,  2,  3,  4,  6,  9, 14])"
      ]
     },
     "execution_count": 5,
     "metadata": {},
     "output_type": "execute_result"
    }
   ],
   "source": [
    "bar = np.array([1, 1, 1, 1, 1, 1, 1])\n",
    "baz = np.array([1, 2, 3, 4, 5, 6, 7, 8])\n",
    "\n",
    "# we can also use Jupyter in a calculator-like manner with arrays\n",
    "foo + bar"
   ]
  },
  {
   "cell_type": "markdown",
   "id": "0f0fb793-ca3e-48fb-9a99-9d408053faa1",
   "metadata": {},
   "source": [
    "However, trying to perform operations on arrays that are not the same shape results in an exception (`foo` has 7 elements whereas `baz` has 8):"
   ]
  },
  {
   "cell_type": "code",
   "execution_count": 6,
   "id": "208ffe84-f60f-42ce-8936-cbcef457c944",
   "metadata": {},
   "outputs": [
    {
     "ename": "ValueError",
     "evalue": "operands could not be broadcast together with shapes (7,) (8,) ",
     "output_type": "error",
     "traceback": [
      "\u001b[0;31m---------------------------------------------------------------------------\u001b[0m",
      "\u001b[0;31mValueError\u001b[0m                                Traceback (most recent call last)",
      "Cell \u001b[0;32mIn[6], line 1\u001b[0m\n\u001b[0;32m----> 1\u001b[0m \u001b[43mfoo\u001b[49m\u001b[43m \u001b[49m\u001b[38;5;241;43m+\u001b[39;49m\u001b[43m \u001b[49m\u001b[43mbaz\u001b[49m\n",
      "\u001b[0;31mValueError\u001b[0m: operands could not be broadcast together with shapes (7,) (8,) "
     ]
    }
   ],
   "source": [
    "foo + baz"
   ]
  },
  {
   "cell_type": "markdown",
   "id": "452f2ec0-3109-43a8-b65a-331d5b95efa8",
   "metadata": {},
   "source": [
    "You can access specific elements of an array via *indexing*. Here are some examples:"
   ]
  },
  {
   "cell_type": "code",
   "execution_count": 7,
   "id": "a9ae3d48-7c87-48cf-9c16-5e4611c6432c",
   "metadata": {},
   "outputs": [
    {
     "name": "stdout",
     "output_type": "stream",
     "text": [
      "1\n",
      "2\n"
     ]
    }
   ],
   "source": [
    "print(foo[0]) # indices begin at 0\n",
    "print(foo[2]) # therefore this is actually the 3rd element of the array"
   ]
  },
  {
   "cell_type": "code",
   "execution_count": 8,
   "id": "d4956c19-ad60-4cbc-8a38-d1883033b97f",
   "metadata": {},
   "outputs": [
    {
     "name": "stdout",
     "output_type": "stream",
     "text": [
      "[1 1 2 3 5]\n"
     ]
    }
   ],
   "source": [
    "print(foo[0:5]) # a range of indices, doesn't include the endpoint foo[5]"
   ]
  },
  {
   "cell_type": "code",
   "execution_count": 9,
   "id": "4c8d5636-49d1-4258-b325-4e0ba948780e",
   "metadata": {},
   "outputs": [
    {
     "name": "stdout",
     "output_type": "stream",
     "text": [
      "13\n"
     ]
    }
   ],
   "source": [
    "print(foo[-1]) # last element"
   ]
  },
  {
   "cell_type": "markdown",
   "id": "5c9283e6-65d1-489a-93f8-a3e0f87ae4dd",
   "metadata": {},
   "source": [
    "There are lots of other indexing tricks available -- see the [official documentation on indexing here](https://numpy.org/doc/stable/user/basics.indexing.html) and/or a much more extensive tutorial [here](https://lectures.scientific-python.org/intro/numpy/array_object.html) if you are interested.\n",
    "\n",
    "Arrays also have useful *methods*, which you can think of as operations that an array can perform on itself. The examples below show several possibilities as well as how to *call* a method:"
   ]
  },
  {
   "cell_type": "code",
   "execution_count": 10,
   "id": "3c4cbcdc-e080-438e-a196-6742f29f0e47",
   "metadata": {},
   "outputs": [
    {
     "data": {
      "text/plain": [
       "33"
      ]
     },
     "execution_count": 10,
     "metadata": {},
     "output_type": "execute_result"
    }
   ],
   "source": [
    "# add up all the elements\n",
    "foo.sum()"
   ]
  },
  {
   "cell_type": "code",
   "execution_count": 11,
   "id": "ed1037df-ddd4-4b59-81fb-f0ad7c6f8eba",
   "metadata": {},
   "outputs": [
    {
     "data": {
      "text/plain": [
       "36"
      ]
     },
     "execution_count": 11,
     "metadata": {},
     "output_type": "execute_result"
    }
   ],
   "source": [
    "# do the same thing on a different array\n",
    "baz.sum()"
   ]
  },
  {
   "cell_type": "code",
   "execution_count": 12,
   "id": "e5038889-0e84-4502-9854-00270e46b3e5",
   "metadata": {},
   "outputs": [
    {
     "data": {
      "text/plain": [
       "array([  1,   1,   4,   9,  25,  64, 169])"
      ]
     },
     "execution_count": 12,
     "metadata": {},
     "output_type": "execute_result"
    }
   ],
   "source": [
    "#square an array\n",
    "foo**2 #or\n",
    "np.square(foo)"
   ]
  },
  {
   "cell_type": "code",
   "execution_count": 13,
   "id": "d0841259-0d8d-495e-a472-4019d7a510f0",
   "metadata": {},
   "outputs": [
    {
     "name": "stdout",
     "output_type": "stream",
     "text": [
      "1 13\n"
     ]
    }
   ],
   "source": [
    "print(foo.min(), foo.max()) # get minimum and maximum values"
   ]
  },
  {
   "cell_type": "markdown",
   "id": "175b07ca-6256-4b2a-8a2e-4fe0e0bb5780",
   "metadata": {},
   "source": [
    "### ***EXERCISE 2***\n",
    "\n",
    "Create a blank code cell below. Using the array `foo` defined above, calculate the following by performing mathematical operations on `foo`:\n",
    "\n",
    "$$\\frac{\\textrm{foo}^2 + 7}{\\textrm{sum of elements in foo}}$$\n",
    "\n",
    "[Answer: array([ 0.24242424,  0.24242424,  0.33333333,  0.48484848,  0.96969697,\n",
    "        2.15151515,  5.33333333])]"
   ]
  },
  {
   "cell_type": "markdown",
   "id": "d6a61e9e-55fa-4665-b9d3-65fbf0799f54",
   "metadata": {},
   "source": [
    "## Other useful ways to create arrays\n",
    "\n",
    "Very often you'll want to calculate or plot some mathematical function (either a built-in function or one you've written) over some range of arguments. You might, for instance, want to generate an evenly spaced set of points between two values. There is a nice way to do this via the `np.linspace` function:"
   ]
  },
  {
   "cell_type": "code",
   "execution_count": 14,
   "id": "e1c3ec7c-ad79-4e17-a8d7-14c1aab207e9",
   "metadata": {},
   "outputs": [
    {
     "data": {
      "text/plain": [
       "array([1.        , 1.44444444, 1.88888889, 2.33333333, 2.77777778,\n",
       "       3.22222222, 3.66666667, 4.11111111, 4.55555556, 5.        ])"
      ]
     },
     "execution_count": 14,
     "metadata": {},
     "output_type": "execute_result"
    }
   ],
   "source": [
    "# np.linspace takes 3 arguments: start, stop (inclusive), number of points\n",
    "np.linspace(1, 5, 10)"
   ]
  },
  {
   "cell_type": "markdown",
   "id": "f4a8ec91-ede1-4fb8-b1c6-e3c37d26a52d",
   "metadata": {},
   "source": [
    "There's another way to do this: the function `np.arange`:"
   ]
  },
  {
   "cell_type": "code",
   "execution_count": 15,
   "id": "1295e1f8-3205-4022-a6cf-93802ea7cfb1",
   "metadata": {},
   "outputs": [
    {
     "data": {
      "text/plain": [
       "array([1. , 1.2, 1.4, 1.6, 1.8, 2. , 2.2, 2.4, 2.6, 2.8, 3. , 3.2, 3.4,\n",
       "       3.6, 3.8, 4. , 4.2, 4.4, 4.6, 4.8])"
      ]
     },
     "execution_count": 15,
     "metadata": {},
     "output_type": "execute_result"
    }
   ],
   "source": [
    "# np.arange takes 3 arguments: start, stop (not inclusive)\n",
    "# and an optional 3rd argument that is the step size.\n",
    "# If step size not included, default step size is 1\n",
    "np.arange(1, 5, 0.2)"
   ]
  },
  {
   "cell_type": "markdown",
   "id": "69dca029-3c51-4e8d-b636-f48ed73ba57a",
   "metadata": {},
   "source": [
    "## Writing functions\n",
    "\n",
    "We now turn to writing *functions*. You have already used a number of Python functions, like `print`, as well as functions that are part of numpy such as `np.array`. Functions provide a useful way to *encapsulate* and reuse code for calculations. Writing functions will also be necessary when you fit models to data.\n",
    "\n",
    "The writing of functions is best illustrated through an example. The next code cell contains a rather silly example, but we'll use it to point out the important features."
   ]
  },
  {
   "cell_type": "code",
   "execution_count": 16,
   "id": "384aa057-801e-4239-8f38-8e85f1a5c972",
   "metadata": {},
   "outputs": [],
   "source": [
    "def sum_squares_of_elements(x):\n",
    "    '''\n",
    "    Add up the squares of each element of an input array x.\n",
    "    '''\n",
    "    # The next line makes x an array if it isn't one already.\n",
    "    x = np.asarray(x) \n",
    "    elements_squared = x**2\n",
    "    sum_of_elements_squared = elements_squared.sum()\n",
    "    return sum_of_elements_squared"
   ]
  },
  {
   "cell_type": "markdown",
   "id": "d629a928-f1e5-4a02-8ada-4be912ba0da8",
   "metadata": {},
   "source": [
    "Here are the features to notice:\n",
    "\n",
    "* Function definitions must begin with `def`. The name of the function, in this case `sum_squares_of_elements`, follows.\n",
    "* Functions may have one or more input *arsum_squares_of_elements(wendy)guments*. A function may have no arguments, but most of the ones you'll use and write in this course will have at least one. In this example, `x` is the single argument. The argument or arguments are enclosed in parentheses.\n",
    "* The `def` statement ends with a colon. Python is sensitive to indentation. If you want subsequent lines to be part of the function, they need to be indented (by convention, 4 spaces; Jupyter will do this for you automatically).\n",
    "* A comment string (delineated by three apostrophes) called a *documentation string* or *docstring* for short follows the `def` statement. This is optional, but it can be helpful for documenting what the function does. (Choosing sensible names is also a good idea. Don't give your functions a meaningless name like `qwerty17`.)\n",
    "* The code that the function will execute on its input arguments follows.\n",
    "* Usually, the results of a function are meant to be used, and you will want a function to `return` one or more arguments. A function is not required to return anything, and you can also return multiple arguments. What you return is arbitrary: in particular, you can return numbers as well as arrays.\n",
    "\n",
    "Now that the function is defined, I can use it by *calling* it. For example:"
   ]
  },
  {
   "cell_type": "code",
   "execution_count": 17,
   "id": "36821dbb-b57a-4fc1-8469-7e98a9754e9c",
   "metadata": {},
   "outputs": [
    {
     "data": {
      "text/plain": [
       "273"
      ]
     },
     "execution_count": 17,
     "metadata": {},
     "output_type": "execute_result"
    }
   ],
   "source": [
    "sum_squares_of_elements(foo)"
   ]
  },
  {
   "cell_type": "code",
   "execution_count": 18,
   "id": "b3bd1789-8f68-47f0-9e6a-b8de78c00344",
   "metadata": {},
   "outputs": [
    {
     "data": {
      "text/plain": [
       "4"
      ]
     },
     "execution_count": 18,
     "metadata": {},
     "output_type": "execute_result"
    }
   ],
   "source": [
    "# Because of the np.asarray function, this function will work even if the input isn't an array\n",
    "sum_squares_of_elements(2)"
   ]
  },
  {
   "cell_type": "markdown",
   "id": "f50885dc-b018-4de1-84fe-42945e1db80c",
   "metadata": {},
   "source": [
    "You can even call functions within other functions:"
   ]
  },
  {
   "cell_type": "code",
   "execution_count": 19,
   "id": "90aeb911-b0ff-499a-8741-0233ec367053",
   "metadata": {},
   "outputs": [],
   "source": [
    "def sum_squares_of_elements_plus_n(x, n):\n",
    "    '''\n",
    "    Add a number n to the result of sum_squares_of_elements\n",
    "    '''\n",
    "    # for really simple things, calculations can happen within the return statement\n",
    "    return sum_squares_of_elements(x) + n"
   ]
  },
  {
   "cell_type": "code",
   "execution_count": 20,
   "id": "70247a16-5d93-4db8-9e21-eb725c0427f1",
   "metadata": {},
   "outputs": [
    {
     "data": {
      "text/plain": [
       "276"
      ]
     },
     "execution_count": 20,
     "metadata": {},
     "output_type": "execute_result"
    }
   ],
   "source": [
    "sum_squares_of_elements_plus_n(foo, 3)"
   ]
  },
  {
   "cell_type": "markdown",
   "id": "95528a0a-c653-4e76-93dc-0db626e116dc",
   "metadata": {},
   "source": [
    "### ***EXERCISE 3***\n",
    "\n",
    "Write a function that takes as input a numpy array and a second numerical parameter, `tau`, that returns an array where each element in the output contains the calculation\n",
    "$$ e^{-x / \\tau} $$\n",
    "for the corresponding value $x$ in the input array. Hint: the exponential function is defined in Python as 'exp' and is in numpy. Therefore, your function needs to use `np.exp()`.\n",
    "\n",
    "Evaluate the function for x = 3, `tau` = 5.  [Answer: 0.5488....]"
   ]
  },
  {
   "cell_type": "markdown",
   "id": "7480dfe8-df4b-4911-956f-ac3d9a70aac8",
   "metadata": {},
   "source": [
    "Let's now build on what you did last week. You worked with the general solution for the period $T_{gen}$ of a pendulum of length $L$ released from rest at an initial angle $\\theta_0$:\n",
    "\n",
    "$$ T_{gen} = 4\\sqrt{\\frac{L}{g}} K\\left[ \\sin^2\\left(\\frac{\\theta_0}{2} \\right)\\right].$$\n",
    "\n",
    "Here, $g$ is the acceleration due to gravity and $K(m)$ is an elliptic integral of the first kind. Recall that you can calculate this elliptic integral using the `scipy.special` library:"
   ]
  },
  {
   "cell_type": "code",
   "execution_count": 21,
   "id": "519e9da8-a7ef-460e-ab4c-dbb25b43445e",
   "metadata": {},
   "outputs": [],
   "source": [
    "import scipy.special"
   ]
  },
  {
   "cell_type": "code",
   "execution_count": 22,
   "id": "6dea7c42-7893-4386-8e0d-36ec28d8373e",
   "metadata": {},
   "outputs": [
    {
     "data": {
      "text/plain": [
       "1.8540746773013719"
      ]
     },
     "execution_count": 22,
     "metadata": {},
     "output_type": "execute_result"
    }
   ],
   "source": [
    "# evaluate K(m) for m=0.5:\n",
    "scipy.special.ellipk(0.5)"
   ]
  },
  {
   "cell_type": "markdown",
   "id": "006b591c-ee26-4b11-9d1d-fcb3d19c9b83",
   "metadata": {},
   "source": [
    "### ***EXERCISE 4***\n",
    "Write a function to calculate the period of a pendulum that takes the following inputs:\n",
    "\n",
    "* a number or a numpy array of initial angles in degrees\n",
    "* the length $L$ of a pendulum in meters\n",
    " \n",
    "and returns the period in seconds.\n",
    "\n",
    "Then, evaluate your function for an array of 10 evenly-spaced angles between 0 and 40 degrees and a 0.5-m-long pendulum. (I'm not worried about whether or not you include the endpoints.)\n",
    "\n",
    "Note: the inputs to your function don't all have to be of the same type (array or scalar)."
   ]
  },
  {
   "cell_type": "markdown",
   "id": "e88861cb-35e5-4c0b-be10-980277200605",
   "metadata": {},
   "source": [
    "## A taste of plotting\n",
    "\n",
    "Just to show you why arrays are useful, we'll introduce *plotting* with the `matplotlib` library. We'll first need to import it:"
   ]
  },
  {
   "cell_type": "code",
   "execution_count": 23,
   "id": "3a23dcab-0528-4feb-bf2f-b669a3546645",
   "metadata": {},
   "outputs": [],
   "source": [
    "import matplotlib.pyplot as plt # we'll explain this more next time"
   ]
  },
  {
   "cell_type": "code",
   "execution_count": 24,
   "id": "4fbbb517-3791-43b6-a381-cc90cc7d993b",
   "metadata": {},
   "outputs": [],
   "source": [
    "# a magic function for Jupyter notebooks that shows plots within the notebook\n",
    "%matplotlib inline "
   ]
  },
  {
   "cell_type": "markdown",
   "id": "66b73f50-d0b8-4ba4-b151-5e30c281f47f",
   "metadata": {},
   "source": [
    "Let's create an array of values corresponding to angles between 0 and $2\\pi$ radians:"
   ]
  },
  {
   "cell_type": "code",
   "execution_count": 25,
   "id": "0544463f-6556-49d0-a1f7-0b400747ebac",
   "metadata": {},
   "outputs": [],
   "source": [
    "thetas = np.linspace(0, 2*np.pi, 101)"
   ]
  },
  {
   "cell_type": "markdown",
   "id": "ca3ffb99-5f28-426f-b931-8213e8a69e47",
   "metadata": {},
   "source": [
    "And let's make our first plot:"
   ]
  },
  {
   "cell_type": "code",
   "execution_count": 26,
   "id": "6831112a-2747-4517-b6b5-92e3096ca119",
   "metadata": {},
   "outputs": [
    {
     "data": {
      "text/plain": [
       "[<matplotlib.lines.Line2D at 0x7fd89d265700>]"
      ]
     },
     "execution_count": 26,
     "metadata": {},
     "output_type": "execute_result"
    },
    {
     "data": {
      "image/png": "[encoded data removed]",
      "text/plain": [
       "<Figure size 640x480 with 1 Axes>"
      ]
     },
     "metadata": {},
     "output_type": "display_data"
    }
   ],
   "source": [
    "sines = np.sin(thetas)\n",
    "plt.plot(thetas, sines)"
   ]
  },
  {
   "cell_type": "markdown",
   "id": "0eb5fb00-c5b4-4dd4-8762-aef59f8f8ffa",
   "metadata": {},
   "source": [
    "Understanding how arrays work is particularly important for plotting. More about plots (and important tasks like labeling the axes) next time!"
   ]
  },
  {
   "cell_type": "code",
   "execution_count": null,
   "id": "82410f23-cfe1-411c-8025-b69787abe217",
   "metadata": {},
   "outputs": [],
   "source": []
  }
 ],
 "metadata": {
  "kernelspec": {
   "display_name": "Python 3 (ipykernel)",
   "language": "python",
   "name": "python3"
  },
  "language_info": {
   "codemirror_mode": {
    "name": "ipython",
    "version": 3
   },
   "file_extension": ".py",
   "mimetype": "text/x-python",
   "name": "python",
   "nbconvert_exporter": "python",
   "pygments_lexer": "ipython3",
   "version": "3.8.18"
  }
 },
 "nbformat": 4,
 "nbformat_minor": 5
}
